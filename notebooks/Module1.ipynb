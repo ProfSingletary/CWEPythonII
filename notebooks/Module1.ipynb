{
 "cells": [
  {
   "cell_type": "markdown",
   "id": "92e201e3",
   "metadata": {},
   "source": [
    "# CWE Python II\n",
    "## Module 1\n",
    "### Review of PCEP Concepts\n",
    "\n",
    "- Lists and Tuples\n",
    "- Loops\n",
    "- Functions\n",
    "- Dictionaries"
   ]
  },
  {
   "attachments": {},
   "cell_type": "markdown",
   "id": "70983476",
   "metadata": {},
   "source": [
    "## Lists and Tuples\n",
    "- A list stores a list of items\n",
    "- lists are built-in data types in a category known as sequences\n",
    "\n",
    "    - square brackets [] denote a list\n",
    "    - elements are comma-separated\n",
    "    - items are stored in the order in which they are added\n",
    "    - lists are similar to arrays in other programming languages, but lists do not require homogeneity (elements of the same type)"
   ]
  },
  {
   "cell_type": "code",
   "execution_count": 2,
   "id": "15766e64",
   "metadata": {},
   "outputs": [
    {
     "name": "stdout",
     "output_type": "stream",
     "text": [
      "[48.0, 35.0, 20.2, 100.0, 42.0]\n"
     ]
    }
   ],
   "source": [
    "# a list of 5 elements\n",
    "temps = [48.0, 35.0, 20.2, 100.0, 42.0]\n",
    "print(temps)"
   ]
  },
  {
   "cell_type": "code",
   "execution_count": 4,
   "id": "51c03a60",
   "metadata": {},
   "outputs": [
    {
     "name": "stdout",
     "output_type": "stream",
     "text": [
      "inventory =  ['hat', 'shirt', 'pants', 'shoes']\n",
      "movie = ['The Holy Grail', 1975, 9.99]\n",
      "[]\n"
     ]
    }
   ],
   "source": [
    "# a list of 4 string elements\n",
    "inventory = ['hat', 'shirt', 'pants', 'shoes' ]\n",
    "print('inventory = ', inventory)\n",
    "# a list of 3 different elements: string, int, float\n",
    "movie = ['The Holy Grail', 1975, 9.99]\n",
    "print('movie =', movie)\n",
    "# an empty list\n",
    "test_scores = [] \n",
    "print(test_scores)"
   ]
  },
  {
   "attachments": {},
   "cell_type": "markdown",
   "id": "6262f91a",
   "metadata": {},
   "source": [
    "- Individual elements of a list can be accessed by inserting a 0-based numeric index in square brackets following the name of the list"
   ]
  },
  {
   "cell_type": "code",
   "execution_count": 10,
   "id": "44f11e0e",
   "metadata": {},
   "outputs": [
    {
     "name": "stdout",
     "output_type": "stream",
     "text": [
      "temps = [48.0, 30.5, 20.2, 100.0, 42.0]\n",
      "48.0\n",
      "42.0\n",
      "movie = ['The Holy Grail', 1975, 9.99]\n",
      "THE HOLY GRAIL\n"
     ]
    }
   ],
   "source": [
    "print('temps =', temps)\n",
    "print(temps[0])  # first element of temps list\n",
    "print(temps[4])  # last element of temps list\n",
    "print('movie =', movie)\n",
    "print(movie[0].upper())  # convert first element of movie to upper case"
   ]
  },
  {
   "cell_type": "markdown",
   "id": "38487b99",
   "metadata": {},
   "source": [
    "- a list index cannot be larger than the size of the list (number of elements) minus 1"
   ]
  },
  {
   "cell_type": "code",
   "execution_count": 6,
   "id": "7bf557ab",
   "metadata": {},
   "outputs": [
    {
     "ename": "IndexError",
     "evalue": "list index out of range",
     "output_type": "error",
     "traceback": [
      "\u001b[1;31m---------------------------------------------------------------------------\u001b[0m",
      "\u001b[1;31mIndexError\u001b[0m                                Traceback (most recent call last)",
      "Input \u001b[1;32mIn [6]\u001b[0m, in \u001b[0;36m<cell line: 2>\u001b[1;34m()\u001b[0m\n\u001b[0;32m      1\u001b[0m temps \u001b[38;5;241m=\u001b[39m [\u001b[38;5;241m48.0\u001b[39m, \u001b[38;5;241m30.5\u001b[39m, \u001b[38;5;241m20.2\u001b[39m, \u001b[38;5;241m100.0\u001b[39m, \u001b[38;5;241m42.0\u001b[39m]\n\u001b[1;32m----> 2\u001b[0m \u001b[38;5;28mprint\u001b[39m(\u001b[43mtemps\u001b[49m\u001b[43m[\u001b[49m\u001b[38;5;241;43m5\u001b[39;49m\u001b[43m]\u001b[49m)\n",
      "\u001b[1;31mIndexError\u001b[0m: list index out of range"
     ]
    }
   ],
   "source": [
    "temps = [48.0, 30.5, 20.2, 100.0, 42.0]\n",
    "print(temps[5])"
   ]
  },
  {
   "attachments": {},
   "cell_type": "markdown",
   "id": "22b30a83",
   "metadata": {},
   "source": [
    "- In Python an index can also be negative"
   ]
  },
  {
   "cell_type": "code",
   "execution_count": 11,
   "id": "cc32efbd",
   "metadata": {},
   "outputs": [
    {
     "name": "stdout",
     "output_type": "stream",
     "text": [
      "42.0\n",
      "48.0\n"
     ]
    },
    {
     "ename": "IndexError",
     "evalue": "list index out of range",
     "output_type": "error",
     "traceback": [
      "\u001b[1;31m---------------------------------------------------------------------------\u001b[0m",
      "\u001b[1;31mIndexError\u001b[0m                                Traceback (most recent call last)",
      "Input \u001b[1;32mIn [11]\u001b[0m, in \u001b[0;36m<cell line: 3>\u001b[1;34m()\u001b[0m\n\u001b[0;32m      1\u001b[0m \u001b[38;5;28mprint\u001b[39m(temps[\u001b[38;5;241m-\u001b[39m\u001b[38;5;241m1\u001b[39m]) \u001b[38;5;66;03m# -1 is always the last element\u001b[39;00m\n\u001b[0;32m      2\u001b[0m \u001b[38;5;28mprint\u001b[39m(temps[\u001b[38;5;241m-\u001b[39m\u001b[38;5;241m5\u001b[39m]) \u001b[38;5;66;03m# -5 is the first element\u001b[39;00m\n\u001b[1;32m----> 3\u001b[0m \u001b[38;5;28mprint\u001b[39m(\u001b[43mtemps\u001b[49m\u001b[43m[\u001b[49m\u001b[38;5;241;43m-\u001b[39;49m\u001b[38;5;241;43m6\u001b[39;49m\u001b[43m]\u001b[49m)\n",
      "\u001b[1;31mIndexError\u001b[0m: list index out of range"
     ]
    }
   ],
   "source": [
    "print(temps[-1]) # -1 is always the last element\n",
    "print(temps[-5]) # -5 is the first element\n",
    "print(temps[-6]) # IndexError"
   ]
  },
  {
   "attachments": {},
   "cell_type": "markdown",
   "id": "5f963116",
   "metadata": {},
   "source": [
    "- Modifying elements is similar to accessing them\n",
    "    - use a 0-based index for assignment"
   ]
  },
  {
   "cell_type": "code",
   "execution_count": 12,
   "id": "ccb9908d",
   "metadata": {},
   "outputs": [
    {
     "name": "stdout",
     "output_type": "stream",
     "text": [
      "temps = [48.0, 30.5, 20.2, 100.0, 42.0]\n",
      "modified temps = [48.0, 30.5, 20.2, 98.0, 42.0]\n",
      "inventory = ['hat', 'shirt', 'pants', 'shoes']\n",
      "modified inventory = ['hat', 'socks', 'pants', 'shoes']\n"
     ]
    }
   ],
   "source": [
    "print('temps =', temps)\n",
    "temps[3] = 98.0  # set fourth element\n",
    "print('modified temps =', temps)\n",
    "print('inventory =', inventory)\n",
    "inventory[1] = 'socks' # set second element\n",
    "print('modified inventory =', inventory)"
   ]
  },
  {
   "attachments": {},
   "cell_type": "markdown",
   "id": "78fcd757",
   "metadata": {},
   "source": [
    "- The asterisk acts as a repetition operator when creating (and initializing) lists"
   ]
  },
  {
   "cell_type": "code",
   "execution_count": 13,
   "id": "9497c61b",
   "metadata": {},
   "outputs": [
    {
     "name": "stdout",
     "output_type": "stream",
     "text": [
      "scores = [0, 0, 0, 0, 0]\n"
     ]
    }
   ],
   "source": [
    "scores = [0] * 5    # same as scores = [0, 0, 0, 0, 0]\n",
    "print('scores =', scores)"
   ]
  },
  {
   "attachments": {},
   "cell_type": "markdown",
   "id": "fc058367",
   "metadata": {},
   "source": [
    "- The append method adds items to the end of a list\n",
    "    - increases length by 1"
   ]
  },
  {
   "cell_type": "code",
   "execution_count": 14,
   "id": "2e6083d4",
   "metadata": {},
   "outputs": [
    {
     "name": "stdout",
     "output_type": "stream",
     "text": [
      "stats = [48.0, 30.5, 20.2, 100.0] len =  4\n",
      "modified stats = [48.0, 30.5, 20.2, 100.0, 99.5] len =  5\n"
     ]
    }
   ],
   "source": [
    "stats = [48.0, 30.5, 20.2, 100.0]\n",
    "print('stats =', stats, 'len = ', len(stats))\n",
    "stats.append(99.5)\n",
    "print('modified stats =', stats, 'len = ', len(stats))"
   ]
  },
  {
   "cell_type": "markdown",
   "id": "68a70155",
   "metadata": {},
   "source": [
    "- The insert method inserts an item anywhere in a list\n",
    "    - shifts all items right, increases length by 1"
   ]
  },
  {
   "cell_type": "code",
   "execution_count": 19,
   "id": "02964687",
   "metadata": {},
   "outputs": [
    {
     "name": "stdout",
     "output_type": "stream",
     "text": [
      "stats = [48.0, 30.5, 20.2, 100.0] len =  4\n",
      "modified stats = [48.0, 37.5, 30.5, 20.2, 100.0] len =  5\n"
     ]
    }
   ],
   "source": [
    "stats = [48.0, 30.5, 20.2, 100.0]\n",
    "print('stats =', stats, 'len = ', len(stats))\n",
    "stats.insert(1, 37.5) # insert(index, data)\n",
    "print('modified stats =', stats, 'len = ', len(stats))"
   ]
  },
  {
   "cell_type": "markdown",
   "id": "d3bd2213",
   "metadata": {},
   "source": [
    "## Loops"
   ]
  },
  {
   "cell_type": "markdown",
   "id": "b1f2f8eb",
   "metadata": {},
   "source": [
    "## Functions"
   ]
  },
  {
   "cell_type": "markdown",
   "id": "2430fef5",
   "metadata": {},
   "source": [
    "## Dictionaries"
   ]
  }
 ],
 "metadata": {
  "kernelspec": {
   "display_name": "Python 3 (ipykernel)",
   "language": "python",
   "name": "python3"
  },
  "language_info": {
   "codemirror_mode": {
    "name": "ipython",
    "version": 3
   },
   "file_extension": ".py",
   "mimetype": "text/x-python",
   "name": "python",
   "nbconvert_exporter": "python",
   "pygments_lexer": "ipython3",
   "version": "3.10.4"
  }
 },
 "nbformat": 4,
 "nbformat_minor": 5
}
