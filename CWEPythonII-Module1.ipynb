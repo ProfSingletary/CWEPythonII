{
 "cells": [
  {
   "cell_type": "markdown",
   "id": "92e201e3",
   "metadata": {},
   "source": [
    "# CWE Python II\n",
    "## Module 1\n",
    "### Review of PCEP Concepts\n",
    "\n",
    "- Lists and Tuples\n",
    "- Dictionaries\n",
    "- Slicing\n",
    "- Loops\n",
    "- Functions"
   ]
  }
 ],
 "metadata": {
  "kernelspec": {
   "display_name": "Python 3 (ipykernel)",
   "language": "python",
   "name": "python3"
  },
  "language_info": {
   "codemirror_mode": {
    "name": "ipython",
    "version": 3
   },
   "file_extension": ".py",
   "mimetype": "text/x-python",
   "name": "python",
   "nbconvert_exporter": "python",
   "pygments_lexer": "ipython3",
   "version": "3.10.4"
  }
 },
 "nbformat": 4,
 "nbformat_minor": 5
}
